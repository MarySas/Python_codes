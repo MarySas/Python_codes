{
 "cells": [
  {
   "cell_type": "markdown",
   "id": "08c62562",
   "metadata": {},
   "source": [
    "# 01. Importing Libraries"
   ]
  },
  {
   "cell_type": "markdown",
   "id": "a40b2800",
   "metadata": {},
   "source": [
    "# 02. Data types"
   ]
  },
  {
   "cell_type": "code",
   "execution_count": 1,
   "id": "b81a47c4",
   "metadata": {},
   "outputs": [],
   "source": [
    "# Import Libraries\n",
    "import pandas as pd\n",
    "import numpy as np\n",
    "import os"
   ]
  },
  {
   "cell_type": "code",
   "execution_count": 18,
   "id": "9c80ef7a",
   "metadata": {},
   "outputs": [],
   "source": [
    "x = 90"
   ]
  },
  {
   "cell_type": "code",
   "execution_count": 19,
   "id": "eafca150",
   "metadata": {},
   "outputs": [],
   "source": [
    "y = 10"
   ]
  },
  {
   "cell_type": "code",
   "execution_count": 20,
   "id": "8c4cd76b",
   "metadata": {},
   "outputs": [
    {
     "data": {
      "text/plain": [
       "100"
      ]
     },
     "execution_count": 20,
     "metadata": {},
     "output_type": "execute_result"
    }
   ],
   "source": [
    "x + y"
   ]
  },
  {
   "cell_type": "code",
   "execution_count": 21,
   "id": "1b92a32d",
   "metadata": {},
   "outputs": [],
   "source": [
    "z = 20"
   ]
  },
  {
   "cell_type": "code",
   "execution_count": 22,
   "id": "9cbe88bc",
   "metadata": {},
   "outputs": [
    {
     "data": {
      "text/plain": [
       "100"
      ]
     },
     "execution_count": 22,
     "metadata": {},
     "output_type": "execute_result"
    }
   ],
   "source": [
    "x + z - y"
   ]
  },
  {
   "cell_type": "code",
   "execution_count": 23,
   "id": "cdaa69de",
   "metadata": {},
   "outputs": [],
   "source": [
    "a = 120"
   ]
  },
  {
   "cell_type": "code",
   "execution_count": 28,
   "id": "da4b089e",
   "metadata": {},
   "outputs": [
    {
     "data": {
      "text/plain": [
       "100"
      ]
     },
     "execution_count": 28,
     "metadata": {},
     "output_type": "execute_result"
    }
   ],
   "source": [
    "a - z"
   ]
  },
  {
   "cell_type": "code",
   "execution_count": 29,
   "id": "767b94e2",
   "metadata": {},
   "outputs": [],
   "source": [
    "b = 5.789"
   ]
  },
  {
   "cell_type": "code",
   "execution_count": 30,
   "id": "5bb55a6f",
   "metadata": {},
   "outputs": [],
   "source": [
    "c = 1.879"
   ]
  },
  {
   "cell_type": "code",
   "execution_count": 31,
   "id": "b455a3e3",
   "metadata": {},
   "outputs": [
    {
     "data": {
      "text/plain": [
       "3.0808940926024477"
      ]
     },
     "execution_count": 31,
     "metadata": {},
     "output_type": "execute_result"
    }
   ],
   "source": [
    "b/c"
   ]
  },
  {
   "cell_type": "code",
   "execution_count": 32,
   "id": "4f8b2e7b",
   "metadata": {},
   "outputs": [],
   "source": [
    "d = \"Hello, \""
   ]
  },
  {
   "cell_type": "code",
   "execution_count": 33,
   "id": "4b815aa6",
   "metadata": {},
   "outputs": [],
   "source": [
    "e = \"Python\""
   ]
  },
  {
   "cell_type": "code",
   "execution_count": 34,
   "id": "a2e51d0b",
   "metadata": {},
   "outputs": [
    {
     "data": {
      "text/plain": [
       "'Hello, Python'"
      ]
     },
     "execution_count": 34,
     "metadata": {},
     "output_type": "execute_result"
    }
   ],
   "source": [
    "d + e"
   ]
  },
  {
   "cell_type": "code",
   "execution_count": 35,
   "id": "3b9cd8a4",
   "metadata": {},
   "outputs": [],
   "source": [
    "f = \"My name is\""
   ]
  },
  {
   "cell_type": "code",
   "execution_count": 38,
   "id": "b1833bb0",
   "metadata": {},
   "outputs": [],
   "source": [
    "g = \" Mary\""
   ]
  },
  {
   "cell_type": "code",
   "execution_count": 39,
   "id": "45137641",
   "metadata": {
    "scrolled": true
   },
   "outputs": [
    {
     "data": {
      "text/plain": [
       "'My name is Mary'"
      ]
     },
     "execution_count": 39,
     "metadata": {},
     "output_type": "execute_result"
    }
   ],
   "source": [
    "f + g"
   ]
  },
  {
   "cell_type": "code",
   "execution_count": 41,
   "id": "b0fd4e07",
   "metadata": {},
   "outputs": [
    {
     "data": {
      "text/plain": [
       "' Mary Mary Mary Mary Mary Mary Mary Mary Mary Mary Mary Mary Mary Mary Mary Mary Mary Mary Mary Mary Mary Mary Mary Mary Mary Mary Mary Mary Mary Mary Mary Mary Mary Mary Mary Mary Mary Mary Mary Mary Mary Mary Mary Mary Mary Mary Mary Mary Mary Mary Mary Mary Mary Mary Mary Mary Mary Mary Mary Mary Mary Mary Mary Mary Mary Mary Mary Mary Mary Mary Mary Mary Mary Mary Mary Mary Mary Mary Mary Mary Mary Mary Mary Mary Mary Mary Mary Mary Mary Mary Mary Mary Mary Mary Mary Mary Mary Mary Mary Mary'"
      ]
     },
     "execution_count": 41,
     "metadata": {},
     "output_type": "execute_result"
    }
   ],
   "source": [
    "g*100"
   ]
  },
  {
   "cell_type": "code",
   "execution_count": null,
   "id": "143b7a63",
   "metadata": {},
   "outputs": [],
   "source": []
  }
 ],
 "metadata": {
  "kernelspec": {
   "display_name": "Python 3",
   "language": "python",
   "name": "python3"
  },
  "language_info": {
   "codemirror_mode": {
    "name": "ipython",
    "version": 3
   },
   "file_extension": ".py",
   "mimetype": "text/x-python",
   "name": "python",
   "nbconvert_exporter": "python",
   "pygments_lexer": "ipython3",
   "version": "3.8.8"
  }
 },
 "nbformat": 4,
 "nbformat_minor": 5
}
